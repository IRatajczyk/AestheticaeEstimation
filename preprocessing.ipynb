{
 "cells": [
  {
   "cell_type": "code",
   "execution_count": 13,
   "metadata": {},
   "outputs": [],
   "source": [
    "import cv2\n",
    "import os\n",
    "import json\n",
    "import numpy as np\n",
    "from typing import Dict"
   ]
  },
  {
   "cell_type": "code",
   "execution_count": 16,
   "metadata": {},
   "outputs": [],
   "source": [
    "for image_name in os.listdir('images'):\n",
    "    image = cv2.imread('images\\\\' + image_name)\n",
    "    image = cv2.resize(image, (224, 224))\n",
    "    cv2.imwrite('processed\\\\'+image_name, image)"
   ]
  },
  {
   "cell_type": "code",
   "execution_count": 15,
   "metadata": {},
   "outputs": [],
   "source": [
    "with open('composition_scores.json', 'r') as f,  open('processed\\\\labels.json', 'w') as result_file:\n",
    "    labels = json.load(f)\n",
    "    result_dict: Dict[str, Dict[str, float]] = {filename: {\"mean\": params[\"mean\"], \"weight\": 1/(.02+np.std(params[\"scores\"]))} for filename, params in labels.items()}\n",
    "    json.dump(result_dict, result_file)"
   ]
  },
  {
   "cell_type": "code",
   "execution_count": null,
   "metadata": {},
   "outputs": [],
   "source": [
    "model: keras.models = keras.models.Sequential([\n",
    "    tf.keras.layers.InputLayer(input_shape=INPUT_SHAPE),\n",
    "    tf.keras.layers.Conv2D(filters=16, kernel_size=(3, 3), activation='relu'),\n",
    "    tf.keras.layers.MaxPool2D(),\n",
    "    tf.keras.layers.Conv2D(filters=32, kernel_size=(3, 3), activation='relu'),\n",
    "    tf.keras.layers.MaxPool2D(),\n",
    "    tf.keras.layers.GlobalAveragePooling2D(),\n",
    "    tf.keras.layers.Dense(64, activation='relu'),\n",
    "    tf.keras.layers.Dense(64, activation='relu'),\n",
    "    tf.keras.layers.Dense(1, activation='linear'),\n",
    "])\n",
    "\n",
    "model.compile(\n",
    "    optimizer='adam',\n",
    "    loss = tf.keras.losses.MeanSquaredError(),\n",
    "    metrics=[tf.keras.losses.MeanSquaredError(), tf.keras.losses.MeanAbsoluteError()]\n",
    ")"
   ]
  }
 ],
 "metadata": {
  "kernelspec": {
   "display_name": "base",
   "language": "python",
   "name": "python3"
  },
  "language_info": {
   "codemirror_mode": {
    "name": "ipython",
    "version": 3
   },
   "file_extension": ".py",
   "mimetype": "text/x-python",
   "name": "python",
   "nbconvert_exporter": "python",
   "pygments_lexer": "ipython3",
   "version": "3.8.8 (default, Apr 13 2021, 15:08:03) [MSC v.1916 64 bit (AMD64)]"
  },
  "orig_nbformat": 4,
  "vscode": {
   "interpreter": {
    "hash": "e6872c4e2fcfca4bb0903e31301f264dbaee0c79f75ba7993f9d6458ee6f017f"
   }
  }
 },
 "nbformat": 4,
 "nbformat_minor": 2
}
